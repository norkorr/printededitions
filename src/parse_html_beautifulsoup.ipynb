{
 "cells": [
  {
   "cell_type": "code",
   "execution_count": 0,
   "metadata": {
    "colab": {},
    "colab_type": "code",
    "id": "vfRlcQO_PZfA"
   },
   "outputs": [],
   "source": [
    "from bs4 import BeautifulSoup\n",
    "from IPython.display import HTML\n",
    "import re\n",
    "\n",
    "def get_meta(urn):\n",
    "    import requests\n",
    "    r = requests.get('https://api.nb.no/ngram/meta', params={'urn': urn})\n",
    "    return r.json()"
   ]
  },
  {
   "cell_type": "markdown",
   "metadata": {
    "colab_type": "text",
    "id": "Cut56RTcPZfD"
   },
   "source": [
    "Listen fra nb.no er lagret som en HTML-fil, åpne og legg i variabel"
   ]
  },
  {
   "cell_type": "code",
   "execution_count": 0,
   "metadata": {
    "colab": {},
    "colab_type": "code",
    "id": "3Y-dJQK6PZfE"
   },
   "outputs": [],
   "source": [
    "html_doc = open(\"c:\\\\users\\\\larsj\\\\documents\\\\artikler fra nett\\\\Gmail - VS_ Norske Korrespondanser _ URNs.html\", 'r', encoding='utf-8').read()"
   ]
  },
  {
   "cell_type": "markdown",
   "metadata": {
    "colab_type": "text",
    "id": "v6zdrUO1PZfG"
   },
   "source": [
    "Parser filen med Beautifulsoup"
   ]
  },
  {
   "cell_type": "code",
   "execution_count": 0,
   "metadata": {
    "colab": {},
    "colab_type": "code",
    "id": "vxw1VC6fPZfG"
   },
   "outputs": [],
   "source": [
    "soup = BeautifulSoup(html_doc, 'html.parser')"
   ]
  },
  {
   "cell_type": "markdown",
   "metadata": {
    "colab_type": "text",
    "id": "LlhVQ7nkPZfI"
   },
   "source": [
    "URN-ene ligger som verdier inne i en streng som attributt til img-elementer - vi henter dem ut og peller ut URN-ene med et regulært uttrykk"
   ]
  },
  {
   "cell_type": "code",
   "execution_count": 0,
   "metadata": {
    "colab": {},
    "colab_type": "code",
    "id": "9nZcZf_TPZfI"
   },
   "outputs": [],
   "source": [
    "res = \"\"\n",
    "for element in soup.find_all('img'):\n",
    "    res += str(element)"
   ]
  },
  {
   "cell_type": "markdown",
   "metadata": {
    "colab_type": "text",
    "id": "XOAiI2IhPZfK"
   },
   "source": [
    "Her kjører vi regulært uttrykk"
   ]
  },
  {
   "cell_type": "code",
   "execution_count": 0,
   "metadata": {
    "colab": {},
    "colab_type": "code",
    "id": "SYxZQm4YPZfL"
   },
   "outputs": [],
   "source": [
    "urns = re.findall('URN:NBN:no-nb_digibok_[0-9]+', res)"
   ]
  },
  {
   "cell_type": "markdown",
   "metadata": {
    "colab_type": "text",
    "id": "k41xZk8pPZfN"
   },
   "source": [
    "For å sjekke at alt er i orden, og at vi har teksten hos oss, regenereres metadata fra egen base. Da tar vi med bare serienummeret i URN-ene"
   ]
  },
  {
   "cell_type": "code",
   "execution_count": 0,
   "metadata": {
    "colab": {},
    "colab_type": "code",
    "id": "0100TFlSPZfN"
   },
   "outputs": [],
   "source": [
    "pureurns = [x[22:] for x in urns]"
   ]
  },
  {
   "cell_type": "code",
   "execution_count": 0,
   "metadata": {
    "colab": {},
    "colab_type": "code",
    "id": "cOjGwF4hPZfP"
   },
   "outputs": [],
   "source": [
    "new_list = []\n",
    "for u in pureurns:\n",
    "    new_list  += get_meta(u)  "
   ]
  },
  {
   "cell_type": "code",
   "execution_count": 0,
   "metadata": {
    "colab": {},
    "colab_type": "code",
    "id": "EKZ69pQpPZfR",
    "outputId": "2b6c9ae6-d9ab-4a8b-f9dd-c02c256cffe7"
   },
   "outputs": [
    {
     "name": "stdout",
     "output_type": "stream",
     "text": [
      "forskjell i lengde mellom urner:  173  og hva som er i fulltekst:  165\n"
     ]
    }
   ],
   "source": [
    "print('forskjell i lengde mellom urner: ', len(urns), ' og hva som er i fulltekst: ', len(new_list))"
   ]
  },
  {
   "cell_type": "markdown",
   "metadata": {
    "colab_type": "raw",
    "id": "CpEJLNFFPZfU"
   },
   "source": [
    "Så kan vi ta en titt på regenerert data for Brevene"
   ]
  },
  {
   "cell_type": "code",
   "execution_count": 0,
   "metadata": {
    "colab": {},
    "colab_type": "code",
    "id": "rasbBUckPZfV",
    "outputId": "0b3e1479-6d96-4d8c-ed7c-62623fc74861"
   },
   "outputs": [
    {
     "name": "stdout",
     "output_type": "stream",
     "text": [
      "https://urn.nb.no/URN:NBN:no-nb_digibok_2012032124032 Collett, Camilla, 1881, Brev fra Paris [s.n.]\n",
      "https://urn.nb.no/URN:NBN:no-nb_digibok_2006120100027 Bjørnson, Bjørnstjerne, 1912, Gro-tid Gyldendalske Boghandel, Nordisk Forlag;Kristiania : Gyldendalske Boghandel, Nordisk Forlag, 1912\n",
      "https://urn.nb.no/URN:NBN:no-nb_digibok_2006120100007 Bjørnson, Bjørnstjerne, 1912, Gro-tid Gyldendalske Boghandel, Nordisk Forlag;Kristiania : Gyldendalske Boghandel, Nordisk Forlag, 1912\n",
      "https://urn.nb.no/URN:NBN:no-nb_digibok_2014080108079 , 1920, Gamle brev som aktstykker til Finmarkens historie Kirkenes boktrykkeri\n",
      "https://urn.nb.no/URN:NBN:no-nb_digibok_2006120500072 Bjørnson, Bjørnstjerne, 1921, Brytnings-år Gyldendalske Boghandel, Nordisk Forlag;Kristiania : Gyldendalske Boghandel, Nordisk Forlag, 1921\n",
      "https://urn.nb.no/URN:NBN:no-nb_digibok_2006120501036 Bjørnson, Bjørnstjerne, 1921, Brytnings-år Gyldendalske Boghandel, Nordisk Forlag;Kristiania : Gyldendalske Boghandel, Nordisk Forlag, 1921\n",
      "https://urn.nb.no/URN:NBN:no-nb_digibok_2006121201065 Munch, P.A., 1924, Lærde brev fraa og til P.A. Munch Universitetet;Oslo : Universitetet, 1924-1971\n",
      "https://urn.nb.no/URN:NBN:no-nb_digibok_2016040608136 Sanne, Martha, 1929, En av de få Det Norske misjonsforbunds forl.\n",
      "https://urn.nb.no/URN:NBN:no-nb_digibok_2007073104014 Wergeland, Henrik, 1930, Samlede skrifter Steen;Kristiania : Steen, 1930\n",
      "https://urn.nb.no/URN:NBN:no-nb_digibok_2014090408204 Witkop, Philipp, 1930, Brev fra døde i verdenskrigen Lutherstiftelsen;O. Lohse\n",
      "https://urn.nb.no/URN:NBN:no-nb_digibok_2006121101033 Bjørnson, Bjørnstjerne, 1932, Kamp-liv Gyldendal;Oslo : Gyldendal, 1932\n",
      "https://urn.nb.no/URN:NBN:no-nb_digibok_2006121400082 Bjørnson, Bjørnstjerne, 1932, Kamp-liv Gyldendal;Oslo : Gyldendal, 1932\n",
      "https://urn.nb.no/URN:NBN:no-nb_digibok_2010120706009 Aarrestad, Sven, 1935, Brev til Annie I kommisjon hjå Norli\n",
      "https://urn.nb.no/URN:NBN:no-nb_digibok_2007073104012 Wergeland, Henrik, 1935, Samlede skrifter Steen;Kristiania : Steen, 1930\n",
      "https://urn.nb.no/URN:NBN:no-nb_digibok_2010062803038 Mörner, Carl Carlsson, 1938, Stattholder Carl Mørners brev til Carl Johan 1816-1818 Dybwad\n",
      "https://urn.nb.no/URN:NBN:no-nb_digibok_2010063020015 Ibsen, Henrik, 1940, Samlede verker Gyldendal;Oslo : Gyldendal, 1928-57\n",
      "https://urn.nb.no/URN:NBN:no-nb_digibok_2013070308116 Aall, Jacob, 1944, Jacob Aalls stockholmsreise 1823 Forening for norsk bokkunst\n",
      "https://urn.nb.no/URN:NBN:no-nb_digibok_2010063020011 Ibsen, Henrik, 1946, Samlede verker Gyldendal;Oslo : Gyldendal, 1928-57\n",
      "https://urn.nb.no/URN:NBN:no-nb_digibok_2008041600028 Munch, Edvard, 1946, Edvard Munch og Jappe Nilssen Dreyer\n",
      "https://urn.nb.no/URN:NBN:no-nb_digibok_2007012901037 Vogt, Nils Collett, 1947, Brev fra Nils Collett Vogt til Nini Roll Anker Aschehoug\n",
      "https://urn.nb.no/URN:NBN:no-nb_digibok_2008041600005 Eckersberg, Johan Fredrik, 1948, Forleggeren og maleren Steensballe\n",
      "https://urn.nb.no/URN:NBN:no-nb_digibok_2010063020012 Ibsen, Henrik, 1949, Samlede verker Gyldendal;Oslo : Gyldendal, 1928-57\n",
      "https://urn.nb.no/URN:NBN:no-nb_digibok_2008042400020 Munch, Edvard, 1949, Edvard Munchs brev Tanum\n",
      "https://urn.nb.no/URN:NBN:no-nb_digibok_2008042204068 Kielland, Alexander L., 1950, Brev Gyldendal\n",
      "https://urn.nb.no/URN:NBN:no-nb_digibok_2009100710001 Kielland, Alexander L., 1950, Samlede verker Gyldendal;Oslo : Gyldendal, 1949-50\n",
      "https://urn.nb.no/URN:NBN:no-nb_digibok_2012022208045 Horneman, Jan B., 1951, Koffardikaptein Jan B. Hornemans brev til Petra Neeraas, Christiansund N \n",
      "https://urn.nb.no/URN:NBN:no-nb_digibok_2011112808014 Cappelen, August, 1952, August Cappelens brev Cappelen\n",
      "https://urn.nb.no/URN:NBN:no-nb_digibok_2007021301008 Garborg, Arne, 1954, Mogning og manndom Aschehoug;Oslo : Aschehoug, 1954\n",
      "https://urn.nb.no/URN:NBN:no-nb_digibok_2008043000050 , 1954, Dansk-norsk hjem belyst ved brev fra den Bull-Ørstedske familiekrets Gyldendal\n",
      "https://urn.nb.no/URN:NBN:no-nb_digibok_2014011708093 Linde, Max, 1954, Edvard Munchs brev fra dr. med. Max Linde Dreyer\n",
      "https://urn.nb.no/URN:NBN:no-nb_digibok_2007061104010 Garborg, Arne, 1954, Mogning og manndom Aschehoug;Oslo : Aschehoug, 1954\n",
      "https://urn.nb.no/URN:NBN:no-nb_digibok_2007062600003 , 1955, Norske brev - særlig fra 1905 - til Ann Margret Holmgren Gyldendal\n",
      "https://urn.nb.no/URN:NBN:no-nb_digibok_2006082800121 Skram, Amalie, 1955, Mellom slagene Aschehoug\n",
      "https://urn.nb.no/URN:NBN:no-nb_digibok_2012022208021 Munch, P.A., 1955, Lærde brev fraa og til P.A. Munch (Aschehoug);Oslo : Universitetet, 1924-1971\n",
      "https://urn.nb.no/URN:NBN:no-nb_digibok_2007021601010 , 1956, Brev til Henrik Wergeland Cappelen\n",
      "https://urn.nb.no/URN:NBN:no-nb_digibok_2008051600001 Hamsun, Knut, 1956, Knut Hamsun som han var Gyldendal\n",
      "https://urn.nb.no/URN:NBN:no-nb_digibok_2007061804034 Sars, Johan Ernst, 1957, Brev 1850-1915 Gyldendal\n",
      "https://urn.nb.no/URN:NBN:no-nb_digibok_2007030101059 Aasen, Ivar, 1957, Brev og dagbøker Samlaget;Oslo : Samlaget, 1957-1960\n",
      "https://urn.nb.no/URN:NBN:no-nb_digibok_2007022101083 Vig, Ole, 1957, Ole Vig-brev Norrøn livskunst\n",
      "https://urn.nb.no/URN:NBN:no-nb_digibok_2007060100037 Aasen, Ivar, 1958, Brev og dagbøker Samlaget;Oslo : Samlaget, 1957-1960\n",
      "https://urn.nb.no/URN:NBN:no-nb_digibok_2008051304073 Bonhoeffer, Dietrich, 1959, Motstand og hengivelse Land og Kirke\n",
      "https://urn.nb.no/URN:NBN:no-nb_digibok_2007032601041 Aasen, Ivar, 1960, Brev og dagbøker Samlaget;Oslo : Samlaget, 1957-1960\n",
      "https://urn.nb.no/URN:NBN:no-nb_digibok_2014061608163 Kepler, Johannes., 1961, Stjernen og tanken Servolibris\n",
      "https://urn.nb.no/URN:NBN:no-nb_digibok_2007041701017 Kristina, 1961, Brev ; Maximer Dreyer\n",
      "https://urn.nb.no/URN:NBN:no-nb_digibok_2007041701047 Nansen, Fridtjof, 1961, Brev Universitetsforlaget;[Oslo] : Universitetsforlaget, 1961-1978\n",
      "https://urn.nb.no/URN:NBN:no-nb_digibok_2008051904034 Nansen, Fridtjof, 1961, Brev Universitetsforlaget;[Oslo] : Universitetsforlaget, 1961-1978\n",
      "https://urn.nb.no/URN:NBN:no-nb_digibok_2012052308146 Munch, Edvard, 1963, Edvard Munchs kriseår Gyldendal\n",
      "https://urn.nb.no/URN:NBN:no-nb_digibok_2007032601044 Nansen, Fridtjof, 1963, Brev Universitetsforlaget;[Oslo] : Universitetsforlaget, 1961-1978\n",
      "https://urn.nb.no/URN:NBN:no-nb_digibok_2016090108136 Dahl, Willy, 1963, \"Evindvig\" John Grieg\n",
      "https://urn.nb.no/URN:NBN:no-nb_digibok_2007031501067 , 1963, Tordenskiolds brev Universitetsforl.\n",
      "https://urn.nb.no/URN:NBN:no-nb_digibok_2007060500033 Hauge, Alfred, 1965, Det lyse fastland Nomi\n",
      "https://urn.nb.no/URN:NBN:no-nb_digibok_2007041801138 Nansen, Fridtjof, 1966, Brev Universitetsforlaget;[Oslo] : Universitetsforlaget, 1961-1978\n",
      "https://urn.nb.no/URN:NBN:no-nb_digibok_2009120200036 Obstfelder, Sigbjørn, 1966, Brev fra Sigbjørn Obstfelder Gyldendal\n",
      "https://urn.nb.no/URN:NBN:no-nb_digibok_2011070710002 , 1967, Norges nasjonallitteratur Gyldendal;Oslo : Gyldendal, 1967\n",
      "https://urn.nb.no/URN:NBN:no-nb_digibok_2012092108054 Kielland, Alexander L., 1969, Brev Gyldendal\n",
      "https://urn.nb.no/URN:NBN:no-nb_digibok_2007080100025 Vågslid, Eivind, 1969, Vestfoldmål 1366-99 Universitetsforlaget\n",
      "https://urn.nb.no/URN:NBN:no-nb_digibok_2008051904135 Kielland, Alexander L., 1969, Amtmanden og Expeditionschefen Gyldendal\n",
      "https://urn.nb.no/URN:NBN:no-nb_digibok_2007072404010 Freud, Sigmund, 1971, Brev 1873-1939 Aschehoug\n",
      "https://urn.nb.no/URN:NBN:no-nb_digibok_2011011906023 Hauge, Hans Nielsen, 1971, Brev frå Hans Nielsen Hauge Lutherstiftelsen;Oslo : Lutherstiftelsen, 1971-1976\n",
      "https://urn.nb.no/URN:NBN:no-nb_digibok_2008052700010 Munch, P.A., 1971, Lærde brev fraa og til P.A. Munch Universitetet;Oslo : Universitetet, 1924-1971\n",
      "https://urn.nb.no/URN:NBN:no-nb_digibok_2012042508039 Grieg, Edvard, 1973, Griegs brev til Frants Beyer Bjarne Kortsen\n",
      "https://urn.nb.no/URN:NBN:no-nb_digibok_2016012729005 Hauge, Hans Nielsen, 1974, Brev frå Hans Nielsen Hauge Lutherstiftelsen;Oslo : Lutherstiftelsen, 1971-1976\n",
      "https://urn.nb.no/URN:NBN:no-nb_digibok_2012020908162 Reissiger, Friedrich August, 1975, Brev fra F. A. Reissiger = B. Kortsen\n",
      "https://urn.nb.no/URN:NBN:no-nb_digibok_2016012729004 Hauge, Hans Nielsen, 1976, Brev frå Hans Nielsen Hauge Lutherstiftelsen;Oslo : Lutherstiftelsen, 1971-1976\n",
      "https://urn.nb.no/URN:NBN:no-nb_digibok_2007060501049 Brandt, Willy, 1976, Brev og samtaler 1972-1975 Tiden\n",
      "https://urn.nb.no/URN:NBN:no-nb_digibok_2014102108270 Tullin, Christian Braunmann, 1976, Christian Braunmann Tullins samtlige skrifter Gyldendal;Oslo : Gyldendal, 1972-1976\n",
      "https://urn.nb.no/URN:NBN:no-nb_digibok_2014021807168 Skram, Amalie, 1976, Mellom slagene Aschehoug\n",
      "https://urn.nb.no/URN:NBN:no-nb_digibok_2016053108062 Shetelig, Haakon, 1978, \"Men det blev Bergen\" Grieg\n",
      "https://urn.nb.no/URN:NBN:no-nb_digibok_2014011724005 Nansen, Fridtjof, 1978, Brev Universitetsforlaget;[Oslo] : Universitetsforlaget, 1961-1978\n",
      "https://urn.nb.no/URN:NBN:no-nb_digibok_2012050408088 Kielland, Alexander L., 1978, Brev 1869-1906 Gyldendal;Oslo : Gyldendal, 1978-    .\n",
      "https://urn.nb.no/URN:NBN:no-nb_digibok_2012050408087 Kielland, Alexander L., 1978, Brev 1869-1906 Gyldendal;Oslo : Gyldendal, 1978-    .\n",
      "https://urn.nb.no/URN:NBN:no-nb_digibok_2007061804062 Anker, Øyvind, 1978, Henrik Ibsen's brev Universitetsbiblioteket i Oslo\n",
      "https://urn.nb.no/URN:NBN:no-nb_digibok_2016052608054 Aase, Monica, 1979, Thorvald Boeck's brev- og autografsamling Universitetsbiblioteket, Avd. B, Spesialsamlingene\n",
      "https://urn.nb.no/URN:NBN:no-nb_digibok_2012121105011 Ibsen, Henrik, 1979, Ibsenårbok Universitetsforlaget;Oslo : Universitetsforlaget, 1979-1981\n",
      "https://urn.nb.no/URN:NBN:no-nb_digibok_2007070401035 Kielland, Alexander L., 1980, Brev 1869-1906 Gyldendal;Oslo : Gyldendal, 1978-    .\n",
      "https://urn.nb.no/URN:NBN:no-nb_digibok_2013041206187 Ystaas, Torunn, 1981, Ut med deg, skitne madam! Pax\n",
      "https://urn.nb.no/URN:NBN:no-nb_digibok_2013032206008 Ibsen, Henrik, 1981, Ibsenårbok Universitetsforlaget;Oslo : Universitetsforlaget, 1979-1981\n",
      "https://urn.nb.no/URN:NBN:no-nb_digibok_2014031208142 Grieg, Nordahl, 1981, varig vennskap Gyldendal\n",
      "https://urn.nb.no/URN:NBN:no-nb_digibok_2012072612003 Holberg, Ludvig, 1984, Brev til Hr. Krigs Raad og Commissionaire Aage Rasmussen Hagen i Trondheim Sentrum trykk\n",
      "https://urn.nb.no/URN:NBN:no-nb_digibok_2012070408342 Hellandsjø, Karin, 1985, Bjarne Ness Universitetsforl.\n",
      "https://urn.nb.no/URN:NBN:no-nb_digibok_2012021409031 Nag, Martin, 1987, Naig-trilogien &lt;Strand kommune, Kulturkontoret&gt;;[Jørpeland&gt; : &lt;Strand kommune, Kulturkontoret&gt;, &lt;1987]\n",
      "https://urn.nb.no/URN:NBN:no-nb_digibok_2016082408157 Sundsbø, Ivar, 1989, Norske brev før 1855 Filatelistisk forlag\n",
      "https://urn.nb.no/URN:NBN:no-nb_digibok_2008061001014 Bull, Olaf, 1989, Olaf Bull Gyldendal;[Oslo] : Gyldendal, 1989\n",
      "https://urn.nb.no/URN:NBN:no-nb_digibok_2008060904115 Bull, Olaf, 1989, Olaf Bull Gyldendal;[Oslo] : Gyldendal, 1989\n",
      "https://urn.nb.no/URN:NBN:no-nb_digibok_2012011906060 Hurum, Hans Jørgen, 1989, Vennskap Grøndahl\n",
      "https://urn.nb.no/URN:NBN:no-nb_digibok_2007110804071 Bjørnson, Bjørnstjerne, 1990, God morgen, Rosalinde! Cappelen;Joh. Nordahls tr.\n",
      "https://urn.nb.no/URN:NBN:no-nb_digibok_2007112104005 Øverland, Per, 1991, Mitt liv fortalt i brev til min sønn [s.n.];Trondheim : [s.n.], 1991\n",
      "https://urn.nb.no/URN:NBN:no-nb_digibok_2014090908214 , 1992, Stikkordregister til Johan Oscar Smiths etterlatte brev Skjulte skatters forl.\n",
      "https://urn.nb.no/URN:NBN:no-nb_digibok_2013061108050 Smith, Johan Oscar, 1992, Johan O. Smiths etterlatte brev Skjulte skatters forl.\n",
      "https://urn.nb.no/URN:NBN:no-nb_digibok_2016090108017 Bugge, Sophus, 1992, Brev 1855-1907 Alvheim &amp; Eide;Øvre Ervik : Alvheim &amp; Eide, 1990-1992\n",
      "https://urn.nb.no/URN:NBN:no-nb_digibok_2007101504008 Welhaven, J.S., 1992, Samlede verker Universitetsforlaget;Oslo : Universitetsforlaget, c1990-c1992\n",
      "https://urn.nb.no/URN:NBN:no-nb_digibok_2007121104016 Lund, Wilhelm, 1993, samling med dikt, brev, historier, avisinnlegg H. Barbala\n",
      "https://urn.nb.no/URN:NBN:no-nb_digibok_2008070104138 Grieg, Edvard, 1993, Brev til Frants Beyer 1872-1907 Universitetsforlaget\n",
      "https://urn.nb.no/URN:NBN:no-nb_digibok_2008010400002 Hamsun, Knut, 1994, Knut Hamsuns brev Gyldendal;Oslo : Gyldendal, 1994-2000\n",
      "https://urn.nb.no/URN:NBN:no-nb_digibok_2008020404031 Vold, Jan Erik, 1994, Under Hauges ord Samlaget\n",
      "https://urn.nb.no/URN:NBN:no-nb_digibok_2010032203021 Grieg, Nina, 1995, Din hengivne Nina Emilia\n",
      "https://urn.nb.no/URN:NBN:no-nb_digibok_2010031603013 Hamsun, Knut, 1995, Knut Hamsuns brev Gyldendal;Oslo : Gyldendal, 1994-2000\n",
      "https://urn.nb.no/URN:NBN:no-nb_digibok_2012120508193 , 1995, Havn! brev og bruddstykker fra Utsira - M. Nag\n",
      "https://urn.nb.no/URN:NBN:no-nb_digibok_2009110404067 Hauge, Olav H., 1996, Brev 1970-1975 Samlaget\n",
      "https://urn.nb.no/URN:NBN:no-nb_digibok_2010040603068 Vold, Jan Erik, 1996, Under Hauges ord Samlaget\n",
      "https://urn.nb.no/URN:NBN:no-nb_digibok_2008080100085 Bjørnson, Bjørnstjerne, 1996, \"Og nu vil jeg tale ut\" - \"Men nu vil jeg også tale ud\" Gyldendal\n",
      "https://urn.nb.no/URN:NBN:no-nb_digibok_2010061403027 Hamsun, Knut, 1996, Knut Hamsuns brev Gyldendal;Oslo : Gyldendal, 1994-2000\n",
      "https://urn.nb.no/URN:NBN:no-nb_digibok_2013100208011 Østerud, Ole, 1996, Ole og Johan Østeruds brev 1854-1859 Hurdal historielag\n",
      "https://urn.nb.no/URN:NBN:no-nb_digibok_2010041203046 Ibsen, Sigurd, 1997, Bak en gyllen fasade Aschehoug i samarbeid med Fondet for Thorleif Dahls kulturbibliotek og Det norske akademi for sprog og litteratur\n",
      "https://urn.nb.no/URN:NBN:no-nb_digibok_2009012004158 Larsen, Bolette C. Pavels, 1997, Artiklar, kritikk, forteljingar og brev Eide;i samarbeid med Den norske bokbyen, Fjærland\n",
      "https://urn.nb.no/URN:NBN:no-nb_digibok_2011081608124 , 1997, I postsekken [Riksarkivet]\n",
      "https://urn.nb.no/URN:NBN:no-nb_digibok_2008091204050 Hamsun, Knut, 1997, Knut Hamsuns brev Gyldendal;Oslo : Gyldendal, 1994-2000\n",
      "https://urn.nb.no/URN:NBN:no-nb_digibok_2010071608007 Grieg, Edvard, 1998, Brev i utvalg Aschehoug;Oslo : Aschehoug, 1998\n",
      "https://urn.nb.no/URN:NBN:no-nb_digibok_2008121500036 Nygaardsvold, Johan, 1998, Dagbøker 1918-48 Aschehoug\n",
      "https://urn.nb.no/URN:NBN:no-nb_digibok_2010071508182 Grieg, Edvard, 1998, Brev i utvalg Aschehoug;Oslo : Aschehoug, 1998\n",
      "https://urn.nb.no/URN:NBN:no-nb_digibok_2009042000140 Spielrein, Sabina, 1999, Den som ikke lenger er skapende, er allerede død AS Zarah\n",
      "https://urn.nb.no/URN:NBN:no-nb_digibok_2010061720022 Ibsen, Henrik, 1999, Samlede verker Gyldendal;Oslo : Gyldendal, 1999\n",
      "https://urn.nb.no/URN:NBN:no-nb_digibok_2009032400042 Hamsun, Knut, 1999, Knut Hamsuns brev Gyldendal;Oslo : Gyldendal, 1994-2000\n",
      "https://urn.nb.no/URN:NBN:no-nb_digibok_2010081022006 Sandemose, Aksel, 1999, Årstidene Aschehoug;Oslo : Aschehoug, 1999\n",
      "https://urn.nb.no/URN:NBN:no-nb_digibok_2010061720020 Ibsen, Henrik, 1999, Samlede verker Gyldendal;Oslo : Gyldendal, 1999\n",
      "https://urn.nb.no/URN:NBN:no-nb_digibok_2009031004087 Sandemose, Aksel, 1999, Årstidene Aschehoug;Oslo : Aschehoug, 1999\n",
      "https://urn.nb.no/URN:NBN:no-nb_digibok_2010061720021 Ibsen, Henrik, 1999, Samlede verker Gyldendal;Oslo : Gyldendal, 1999\n",
      "https://urn.nb.no/URN:NBN:no-nb_digibok_2013073038031 , 2000, Engelske brev fra brødrene Knudtzon 1814-1842 Tapir\n",
      "https://urn.nb.no/URN:NBN:no-nb_digibok_2014091608019 Hauge, Alfred, 2000, Helsing Alfred Genesis\n",
      "https://urn.nb.no/URN:NBN:no-nb_digibok_2009022504083 Dedekam, Sophie, 2000, Dagbok og brev fra en reise til Paris i 1845 Solum\n",
      "https://urn.nb.no/URN:NBN:no-nb_digibok_2008112804029 Hamsun, Knut, 2000, Knut Hamsuns brev Gyldendal;Oslo : Gyldendal, 1994-2000\n",
      "https://urn.nb.no/URN:NBN:no-nb_digibok_2009042904117 , 2000, Annen dans Gyldendal\n",
      "https://urn.nb.no/URN:NBN:no-nb_digibok_2011022305193 Wergeland, Henrik, 2000, Wergeland på prosa Aschehoug\n",
      "https://urn.nb.no/URN:NBN:no-nb_digibok_2008112500076 Arnesen, Daniel, 2001, Haugianske vennebrev [P. Øverland]\n",
      "https://urn.nb.no/URN:NBN:no-nb_digibok_2008111700004 Garborg, Arne, 2001, Skrifter i samling Aschehoug;Oslo : Aschehoug, 2001\n",
      "https://urn.nb.no/URN:NBN:no-nb_digibok_2008110500029 Hamsun, Knut, 2001, Knut Hamsuns brev Gyldendal;Oslo : Gyldendal, 1994-2000\n",
      "https://urn.nb.no/URN:NBN:no-nb_digibok_2008120200028 , 2001, \"Jeg har ogsaa havt brev fra Amerika\" Staur\n",
      "https://urn.nb.no/URN:NBN:no-nb_digibok_2014092938002 Løvenskiold, Eggert Christopher, 2002, Min bedste kiære broder! Det Soelvoldske selskab\n",
      "https://urn.nb.no/URN:NBN:no-nb_digibok_2015062308099 Øverland, Per, 2002, Øverlandbrev P. Øverland\n",
      "https://urn.nb.no/URN:NBN:no-nb_digibok_2009012004051 Smith, Johan Oscar, 2002, Johan O. Smiths etterlatte brev Skjulte skatters forl.\n",
      "https://urn.nb.no/URN:NBN:no-nb_digibok_2014111108005 Wiggen, Geirr, 2004, Språkkulturen i Christianias beaumonde Tapir\n",
      "https://urn.nb.no/URN:NBN:no-nb_digibok_2011062108173 , 2004, F.W. Hvoslefs brev vedrørende samene Sámi instituhtta\n",
      "https://urn.nb.no/URN:NBN:no-nb_digibok_2011040508148 Ibsen, Henrik, 2005, Henrik Ibsens skrifter [Universitetet i Oslo];Oslo : [Universitetet i Oslo], 2005\n",
      "https://urn.nb.no/URN:NBN:no-nb_digibok_2012021605059 Ibsen, Henrik, 2005, Henrik Ibsens skrifter [Universitetet i Oslo];Oslo : [Universitetet i Oslo], 2005\n",
      "https://urn.nb.no/URN:NBN:no-nb_digibok_2014071808117 Karlsen, Andreas, 2005, Narestø-brev Flosta historielag\n",
      "https://urn.nb.no/URN:NBN:no-nb_digibok_2011120206016 Mykle, Agnar, 2005, Posisjoner Gyldendal\n",
      "https://urn.nb.no/URN:NBN:no-nb_digibok_2011072508007 Alnæs, Karsten, 2005, Elva og Hønefossen, og noen brev fra Hadeland Kolltopp forl.\n",
      "https://urn.nb.no/URN:NBN:no-nb_digibok_2014073108166 Koren, Elisabeth, 2006, Som ung brud fra Norge til Iowa P. A. Holst forl.\n",
      "https://urn.nb.no/URN:NBN:no-nb_digibok_2011060608079 Bjørneboe, Jens, 2006, Samlede verker Pax;Oslo : Gyldendal, 2006\n",
      "https://urn.nb.no/URN:NBN:no-nb_digibok_2011060108053 Bjørneboe, Jens, 2006, Brev i utvalg Pax\n",
      "https://urn.nb.no/URN:NBN:no-nb_digibok_2014112007598 Løkken, Johanne, 2007, \"Herregud hvor her ser ut!\" Gjenreisningsmuseet for Finnmark og Nord-Troms\n",
      "https://urn.nb.no/URN:NBN:no-nb_digibok_2011062208180 Øverland, Per, 2007, Brev i familiene Gimnes, Lund, Wiborg og Øverland i Romsdalsarkivet Per Øverland\n",
      "https://urn.nb.no/URN:NBN:no-nb_digibok_2011091608251 Busund, Anlaug, 2007, Det forjettede land Kolofon\n",
      "https://urn.nb.no/URN:NBN:no-nb_digibok_2013042206039 Smith, Johan Oscar, 2008, Johan O. Smiths etterlatte brev Skjulte skatters forl.\n",
      "https://urn.nb.no/URN:NBN:no-nb_digibok_2014072906088 Nyquist, Arild, 2008, Kjære venn Aschehoug\n",
      "https://urn.nb.no/URN:NBN:no-nb_digibok_2011061708063 Ibsen, Henrik, 2008, Henrik Ibsens skrifter [Universitetet i Oslo];Oslo : [Universitetet i Oslo], 2008\n",
      "https://urn.nb.no/URN:NBN:no-nb_digibok_2014021106015 Bjørneboe, Jens, 2008, Brev Pax\n",
      "https://urn.nb.no/URN:NBN:no-nb_digibok_2015062508095 Knoff, Anne-Lise, 2008, Norges katolske hulder Vidarforl.\n",
      "https://urn.nb.no/URN:NBN:no-nb_digibok_2011062708130 Ibsen, Henrik, 2009, Henrik Ibsens skrifter [Universitetet i Oslo];Oslo : [Universitetet i Oslo], 2009\n",
      "https://urn.nb.no/URN:NBN:no-nb_digibok_2011083008083 Thoresen, Magdalene, 2009, Brev Emilia;Oslo : Emilia, cop. 2009\n",
      "https://urn.nb.no/URN:NBN:no-nb_digibok_2011082308275 Thoresen, Magdalene, 2009, Brev Emilia;Oslo : Emilia, cop. 2009\n",
      "https://urn.nb.no/URN:NBN:no-nb_digibok_2011091608249 Thoresen, Magdalene, 2009, Brev Emilia;Oslo : Emilia, cop. 2009\n",
      "https://urn.nb.no/URN:NBN:no-nb_digibok_2015020608035 Sakrisvoll, Anders, 2009, Brevskatten på Ratvolden Arbeidets rett\n",
      "https://urn.nb.no/URN:NBN:no-nb_digibok_2015052608107 Lie, Jonas, 2009, Brev Novus;Oslo : Novus, 2009\n",
      "https://urn.nb.no/URN:NBN:no-nb_digibok_2013042505016 Sekulić, Isidora, 2009, Brev fra Norge Kolofon\n",
      "https://urn.nb.no/URN:NBN:no-nb_digibok_2011062308198 Lie, Jonas, 2009, Brev Novus;Oslo : Novus, 2009\n",
      "https://urn.nb.no/URN:NBN:no-nb_digibok_2012012606077 Ibsen, Henrik, 2010, Henrik Ibsens skrifter [Universitetet i Oslo];Oslo : [Universitetet i Oslo], 2010\n",
      "https://urn.nb.no/URN:NBN:no-nb_digibok_2014061806137 , 2010, Brev Tapir akademisk forl.\n",
      "https://urn.nb.no/URN:NBN:no-nb_digibok_2013013008082 Ræder, Ole Munch, 2010, Reisebrev fra Nord-Amerika Per A. Holst forl.\n",
      "https://urn.nb.no/URN:NBN:no-nb_digibok_2012012606044 Ibsen, Henrik, 2010, Henrik Ibsens skrifter [Universitetet i Oslo];Oslo : [Universitetet i Oslo], 2010\n",
      "https://urn.nb.no/URN:NBN:no-nb_digibok_2014073108174 Svendsen, Gro, 2010, Brev hjem fra en pionerkvinne og mor i Iowa, 1879-1889 Per A. Holsts forl.\n",
      "https://urn.nb.no/URN:NBN:no-nb_digibok_2012112908023 Hauge, Olav H., 2011, Brev 1970-1975 Samlaget\n",
      "https://urn.nb.no/URN:NBN:no-nb_digibok_2012061505072 Smith, Johan Oscar, 2011, Johan O. Smiths etterlatte brev Skjulte skatters forl.\n",
      "https://urn.nb.no/URN:NBN:no-nb_digibok_2013101708012 Drolsum, A.C., 2011, Axel Charlot Drolsum Novus forl.\n",
      "https://urn.nb.no/URN:NBN:no-nb_digibok_2015050848121 Brokke, Enno, 2012, Hilsen fra Kautokeino Reincreate\n"
     ]
    }
   ],
   "source": [
    "urn_prefix = \"https://urn.nb.no/URN:NBN:no-nb_digibok_\"\n",
    "print('\\n'.join([\"{urn} {y}, {z}, {u}\".format(urn = urn_prefix + str(x), y= y, z = z, u = str(u) + ' ' + str(v)) for [x, y, z, u, v] in new_list]))"
   ]
  }
 ],
 "metadata": {
  "colab": {
   "name": "parse_html_beautifulsoup.ipynb",
   "provenance": [],
   "version": "0.3.2"
  },
  "kernelspec": {
   "display_name": "Python 3",
   "language": "python",
   "name": "python3"
  },
  "language_info": {
   "codemirror_mode": {
    "name": "ipython",
    "version": 3
   },
   "file_extension": ".py",
   "mimetype": "text/x-python",
   "name": "python",
   "nbconvert_exporter": "python",
   "pygments_lexer": "ipython3",
   "version": "3.6.6"
  }
 },
 "nbformat": 4,
 "nbformat_minor": 1
}
